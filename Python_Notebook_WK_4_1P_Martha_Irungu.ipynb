{
  "nbformat": 4,
  "nbformat_minor": 0,
  "metadata": {
    "colab": {
      "name": "Python Notebook WK 4  1P_Martha  Irungu.ipynb",
      "provenance": [],
      "collapsed_sections": [],
      "toc_visible": true,
      "authorship_tag": "ABX9TyP1YiQPsKtLt8DOGKXut22k",
      "include_colab_link": true
    },
    "kernelspec": {
      "name": "python3",
      "display_name": "Python 3"
    }
  },
  "cells": [
    {
      "cell_type": "markdown",
      "metadata": {
        "id": "view-in-github",
        "colab_type": "text"
      },
      "source": [
        "<a href=\"https://colab.research.google.com/github/martha-irungu/martha-projects/blob/master/Python_Notebook_WK_4_1P_Martha_Irungu.ipynb\" target=\"_parent\"><img src=\"https://colab.research.google.com/assets/colab-badge.svg\" alt=\"Open In Colab\"/></a>"
      ]
    },
    {
      "cell_type": "markdown",
      "metadata": {
        "id": "HDhulA1DnZSj",
        "colab_type": "text"
      },
      "source": [
        "\n",
        "Moringa Data Science Prep IP: Week 4\n",
        "\n",
        "\n",
        "Question\n",
        "\n",
        " An electric car-sharing service company has tasked me to process stations data to understand electric car usage over time by solving  the following research questions;\n",
        "\n",
        "Research Question/s\n",
        "\n",
        "Identify the most popular hour of the day for picking up a shared electric car (Bluecar) in the city of Paris over the month of April 2018.\n",
        "Bonus Questions (Optional)\n",
        "\n",
        "What is the most popular hour for returning cars?\n",
        "What station is the most popular?\n",
        "Overall?\n",
        "At the most popular picking hour?\n",
        "What postal code is the most popular for picking up Blue cars? Does the most popular station belong to that postal code?\n",
        "Overall?\n",
        "At the most popular picking hour?\n",
        "Do the results change if you consider Utilib and Utilib 1.4 instead of Blue cars? \n",
        "\n",
        "Datasets Provided\n",
        "\n",
        "[http://bit.ly/autolib_dataset]\n",
        "\n",
        "\n",
        "[Link] (Links to an external site.)-Document with the details of the dataset\n"
      ]
    },
    {
      "cell_type": "markdown",
      "metadata": {
        "id": "cSaVrPlk5gJi",
        "colab_type": "text"
      },
      "source": [
        "Importing our libraries"
      ]
    },
    {
      "cell_type": "code",
      "metadata": {
        "id": "LGFM_tiWlm7k",
        "colab_type": "code",
        "colab": {}
      },
      "source": [
        "import pandas as pd\n",
        "\n",
        "import numpy as np\n"
      ],
      "execution_count": 0,
      "outputs": []
    },
    {
      "cell_type": "markdown",
      "metadata": {
        "id": "qLb2Px-J6ILy",
        "colab_type": "text"
      },
      "source": [
        "Loading our Datasets"
      ]
    },
    {
      "cell_type": "code",
      "metadata": {
        "id": "GYhGbQNllnI6",
        "colab_type": "code",
        "colab": {
          "base_uri": "https://localhost:8080/",
          "height": 445
        },
        "outputId": "ba132d14-b907-414e-f910-f14fa5be5026"
      },
      "source": [
        "# loading & previewing data set\n",
        "df = pd.read_csv('Autolib_dataset.csv')\n",
        "df.head()\n"
      ],
      "execution_count": 3,
      "outputs": [
        {
          "output_type": "execute_result",
          "data": {
            "text/html": [
              "<div>\n",
              "<style scoped>\n",
              "    .dataframe tbody tr th:only-of-type {\n",
              "        vertical-align: middle;\n",
              "    }\n",
              "\n",
              "    .dataframe tbody tr th {\n",
              "        vertical-align: top;\n",
              "    }\n",
              "\n",
              "    .dataframe thead th {\n",
              "        text-align: right;\n",
              "    }\n",
              "</style>\n",
              "<table border=\"1\" class=\"dataframe\">\n",
              "  <thead>\n",
              "    <tr style=\"text-align: right;\">\n",
              "      <th></th>\n",
              "      <th>Address</th>\n",
              "      <th>Cars</th>\n",
              "      <th>Bluecar counter</th>\n",
              "      <th>Utilib counter</th>\n",
              "      <th>Utilib 1.4 counter</th>\n",
              "      <th>Charge Slots</th>\n",
              "      <th>Charging Status</th>\n",
              "      <th>City</th>\n",
              "      <th>Displayed comment</th>\n",
              "      <th>ID</th>\n",
              "      <th>Kind</th>\n",
              "      <th>Geo point</th>\n",
              "      <th>Postal code</th>\n",
              "      <th>Public name</th>\n",
              "      <th>Rental status</th>\n",
              "      <th>Scheduled at</th>\n",
              "      <th>Slots</th>\n",
              "      <th>Station type</th>\n",
              "      <th>Status</th>\n",
              "      <th>Subscription status</th>\n",
              "      <th>year</th>\n",
              "      <th>month</th>\n",
              "      <th>day</th>\n",
              "      <th>hour</th>\n",
              "      <th>minute</th>\n",
              "    </tr>\n",
              "  </thead>\n",
              "  <tbody>\n",
              "    <tr>\n",
              "      <th>0</th>\n",
              "      <td>2 Avenue de Suffren</td>\n",
              "      <td>0</td>\n",
              "      <td>0</td>\n",
              "      <td>0</td>\n",
              "      <td>0</td>\n",
              "      <td>0</td>\n",
              "      <td>nonexistent</td>\n",
              "      <td>Paris</td>\n",
              "      <td>NaN</td>\n",
              "      <td>paris-suffren-2</td>\n",
              "      <td>STATION</td>\n",
              "      <td>48.857, 2.2917</td>\n",
              "      <td>75015</td>\n",
              "      <td>Paris/Suffren/2</td>\n",
              "      <td>operational</td>\n",
              "      <td>NaN</td>\n",
              "      <td>2</td>\n",
              "      <td>station</td>\n",
              "      <td>ok</td>\n",
              "      <td>nonexistent</td>\n",
              "      <td>2018</td>\n",
              "      <td>4</td>\n",
              "      <td>8</td>\n",
              "      <td>11</td>\n",
              "      <td>43</td>\n",
              "    </tr>\n",
              "    <tr>\n",
              "      <th>1</th>\n",
              "      <td>145 Rue Raymond Losserand</td>\n",
              "      <td>6</td>\n",
              "      <td>6</td>\n",
              "      <td>0</td>\n",
              "      <td>0</td>\n",
              "      <td>0</td>\n",
              "      <td>operational</td>\n",
              "      <td>Paris</td>\n",
              "      <td>NaN</td>\n",
              "      <td>paris-raymondlosserand-145</td>\n",
              "      <td>STATION</td>\n",
              "      <td>48.83126, 2.313088</td>\n",
              "      <td>75014</td>\n",
              "      <td>Paris/Raymond Losserand/145</td>\n",
              "      <td>operational</td>\n",
              "      <td>NaN</td>\n",
              "      <td>0</td>\n",
              "      <td>station</td>\n",
              "      <td>ok</td>\n",
              "      <td>nonexistent</td>\n",
              "      <td>2018</td>\n",
              "      <td>4</td>\n",
              "      <td>6</td>\n",
              "      <td>7</td>\n",
              "      <td>24</td>\n",
              "    </tr>\n",
              "    <tr>\n",
              "      <th>2</th>\n",
              "      <td>2 Avenue John Fitzgerald Kennedy</td>\n",
              "      <td>3</td>\n",
              "      <td>3</td>\n",
              "      <td>0</td>\n",
              "      <td>2</td>\n",
              "      <td>0</td>\n",
              "      <td>operational</td>\n",
              "      <td>Le Bourget</td>\n",
              "      <td>NaN</td>\n",
              "      <td>lebourget-johnfitzgeraldkennedy-2</td>\n",
              "      <td>STATION</td>\n",
              "      <td>48.938103, 2.4286035</td>\n",
              "      <td>93350</td>\n",
              "      <td>Le Bourget/John Fitzgerald Kennedy/2</td>\n",
              "      <td>operational</td>\n",
              "      <td>NaN</td>\n",
              "      <td>1</td>\n",
              "      <td>station</td>\n",
              "      <td>ok</td>\n",
              "      <td>nonexistent</td>\n",
              "      <td>2018</td>\n",
              "      <td>4</td>\n",
              "      <td>3</td>\n",
              "      <td>20</td>\n",
              "      <td>14</td>\n",
              "    </tr>\n",
              "    <tr>\n",
              "      <th>3</th>\n",
              "      <td>51 Rue EugÃ¨ne OudinÃ©</td>\n",
              "      <td>3</td>\n",
              "      <td>3</td>\n",
              "      <td>1</td>\n",
              "      <td>0</td>\n",
              "      <td>1</td>\n",
              "      <td>operational</td>\n",
              "      <td>Paris</td>\n",
              "      <td>NaN</td>\n",
              "      <td>paris-eugeneoudine-51</td>\n",
              "      <td>STATION</td>\n",
              "      <td>48.8250327, 2.3725162</td>\n",
              "      <td>75013</td>\n",
              "      <td>Paris/EugÃ¨ne OudinÃ©/51</td>\n",
              "      <td>operational</td>\n",
              "      <td>NaN</td>\n",
              "      <td>2</td>\n",
              "      <td>station</td>\n",
              "      <td>ok</td>\n",
              "      <td>nonexistent</td>\n",
              "      <td>2018</td>\n",
              "      <td>4</td>\n",
              "      <td>4</td>\n",
              "      <td>4</td>\n",
              "      <td>37</td>\n",
              "    </tr>\n",
              "    <tr>\n",
              "      <th>4</th>\n",
              "      <td>6 avenue de la Porte de Champerret</td>\n",
              "      <td>3</td>\n",
              "      <td>3</td>\n",
              "      <td>0</td>\n",
              "      <td>0</td>\n",
              "      <td>0</td>\n",
              "      <td>nonexistent</td>\n",
              "      <td>Paris</td>\n",
              "      <td>NaN</td>\n",
              "      <td>paris-portedechamperret-6</td>\n",
              "      <td>PARKING</td>\n",
              "      <td>48.8862632, 2.2874511</td>\n",
              "      <td>75017</td>\n",
              "      <td>Paris/Porte de Champerret/6</td>\n",
              "      <td>operational</td>\n",
              "      <td>NaN</td>\n",
              "      <td>3</td>\n",
              "      <td>station</td>\n",
              "      <td>ok</td>\n",
              "      <td>nonexistent</td>\n",
              "      <td>2018</td>\n",
              "      <td>4</td>\n",
              "      <td>8</td>\n",
              "      <td>17</td>\n",
              "      <td>23</td>\n",
              "    </tr>\n",
              "  </tbody>\n",
              "</table>\n",
              "</div>"
            ],
            "text/plain": [
              "                              Address  Cars  Bluecar counter  ...  day  hour  minute\n",
              "0                 2 Avenue de Suffren     0                0  ...    8    11      43\n",
              "1           145 Rue Raymond Losserand     6                6  ...    6     7      24\n",
              "2    2 Avenue John Fitzgerald Kennedy     3                3  ...    3    20      14\n",
              "3              51 Rue EugÃ¨ne OudinÃ©     3                3  ...    4     4      37\n",
              "4  6 avenue de la Porte de Champerret     3                3  ...    8    17      23\n",
              "\n",
              "[5 rows x 25 columns]"
            ]
          },
          "metadata": {
            "tags": []
          },
          "execution_count": 3
        }
      ]
    },
    {
      "cell_type": "markdown",
      "metadata": {
        "id": "rFGKD4jI8q4g",
        "colab_type": "text"
      },
      "source": [
        "Data Exploration"
      ]
    },
    {
      "cell_type": "code",
      "metadata": {
        "id": "60PGqZCPoC7T",
        "colab_type": "code",
        "colab": {
          "base_uri": "https://localhost:8080/",
          "height": 578
        },
        "outputId": "6ae79b4f-e2ec-4f2a-80f9-bd5236f57207"
      },
      "source": [
        "# previewing basic information of our dataset\n",
        "df.info()\n",
        "df.shape\n"
      ],
      "execution_count": 4,
      "outputs": [
        {
          "output_type": "stream",
          "text": [
            "<class 'pandas.core.frame.DataFrame'>\n",
            "RangeIndex: 5000 entries, 0 to 4999\n",
            "Data columns (total 25 columns):\n",
            " #   Column               Non-Null Count  Dtype \n",
            "---  ------               --------------  ----- \n",
            " 0   Address              5000 non-null   object\n",
            " 1   Cars                 5000 non-null   int64 \n",
            " 2   Bluecar counter      5000 non-null   int64 \n",
            " 3   Utilib counter       5000 non-null   int64 \n",
            " 4   Utilib 1.4 counter   5000 non-null   int64 \n",
            " 5   Charge Slots         5000 non-null   int64 \n",
            " 6   Charging Status      5000 non-null   object\n",
            " 7   City                 5000 non-null   object\n",
            " 8   Displayed comment    111 non-null    object\n",
            " 9   ID                   5000 non-null   object\n",
            " 10  Kind                 5000 non-null   object\n",
            " 11  Geo point            5000 non-null   object\n",
            " 12  Postal code          5000 non-null   int64 \n",
            " 13  Public name          5000 non-null   object\n",
            " 14  Rental status        5000 non-null   object\n",
            " 15  Scheduled at         47 non-null     object\n",
            " 16  Slots                5000 non-null   int64 \n",
            " 17  Station type         5000 non-null   object\n",
            " 18  Status               5000 non-null   object\n",
            " 19  Subscription status  5000 non-null   object\n",
            " 20  year                 5000 non-null   int64 \n",
            " 21  month                5000 non-null   int64 \n",
            " 22  day                  5000 non-null   int64 \n",
            " 23  hour                 5000 non-null   int64 \n",
            " 24  minute               5000 non-null   int64 \n",
            "dtypes: int64(12), object(13)\n",
            "memory usage: 976.7+ KB\n"
          ],
          "name": "stdout"
        },
        {
          "output_type": "execute_result",
          "data": {
            "text/plain": [
              "(5000, 25)"
            ]
          },
          "metadata": {
            "tags": []
          },
          "execution_count": 4
        }
      ]
    },
    {
      "cell_type": "code",
      "metadata": {
        "id": "dlwdpYGgBEgp",
        "colab_type": "code",
        "colab": {
          "base_uri": "https://localhost:8080/",
          "height": 459
        },
        "outputId": "93022556-3bcd-4d6c-9ad1-a69546717345"
      },
      "source": [
        "# To count the number of non - missing values in the df dataframe\n",
        "#\n",
        "df.count()"
      ],
      "execution_count": 5,
      "outputs": [
        {
          "output_type": "execute_result",
          "data": {
            "text/plain": [
              "Address                5000\n",
              "Cars                   5000\n",
              "Bluecar counter        5000\n",
              "Utilib counter         5000\n",
              "Utilib 1.4 counter     5000\n",
              "Charge Slots           5000\n",
              "Charging Status        5000\n",
              "City                   5000\n",
              "Displayed comment       111\n",
              "ID                     5000\n",
              "Kind                   5000\n",
              "Geo point              5000\n",
              "Postal code            5000\n",
              "Public name            5000\n",
              "Rental status          5000\n",
              "Scheduled at             47\n",
              "Slots                  5000\n",
              "Station type           5000\n",
              "Status                 5000\n",
              "Subscription status    5000\n",
              "year                   5000\n",
              "month                  5000\n",
              "day                    5000\n",
              "hour                   5000\n",
              "minute                 5000\n",
              "dtype: int64"
            ]
          },
          "metadata": {
            "tags": []
          },
          "execution_count": 5
        }
      ]
    },
    {
      "cell_type": "code",
      "metadata": {
        "id": "P9FiCCXRBF__",
        "colab_type": "code",
        "colab": {
          "base_uri": "https://localhost:8080/",
          "height": 459
        },
        "outputId": "f0a321a2-20d3-4b7a-9b12-c0b254ae6ab5"
      },
      "source": [
        "# To determine the number of missing or null values as shown\n",
        "\n",
        "num_rows = df.shape[0]\n",
        "num_missing = num_rows - df.count() \n",
        "num_missing"
      ],
      "execution_count": 6,
      "outputs": [
        {
          "output_type": "execute_result",
          "data": {
            "text/plain": [
              "Address                   0\n",
              "Cars                      0\n",
              "Bluecar counter           0\n",
              "Utilib counter            0\n",
              "Utilib 1.4 counter        0\n",
              "Charge Slots              0\n",
              "Charging Status           0\n",
              "City                      0\n",
              "Displayed comment      4889\n",
              "ID                        0\n",
              "Kind                      0\n",
              "Geo point                 0\n",
              "Postal code               0\n",
              "Public name               0\n",
              "Rental status             0\n",
              "Scheduled at           4953\n",
              "Slots                     0\n",
              "Station type              0\n",
              "Status                    0\n",
              "Subscription status       0\n",
              "year                      0\n",
              "month                     0\n",
              "day                       0\n",
              "hour                      0\n",
              "minute                    0\n",
              "dtype: int64"
            ]
          },
          "metadata": {
            "tags": []
          },
          "execution_count": 6
        }
      ]
    },
    {
      "cell_type": "markdown",
      "metadata": {
        "id": "mYoal2Xb9E7E",
        "colab_type": "text"
      },
      "source": [
        "Data Cleaning"
      ]
    },
    {
      "cell_type": "code",
      "metadata": {
        "id": "lni3NsWPoC_2",
        "colab_type": "code",
        "colab": {
          "base_uri": "https://localhost:8080/",
          "height": 136
        },
        "outputId": "36656d7f-a507-42a8-893f-c0d9c9ce598b"
      },
      "source": [
        "\n",
        "# Changing columns to lowercase\n",
        "# Renaming column names \n",
        "\n",
        "\n",
        "df.columns = map(str.lower, df.columns)\n",
        "columns = ['address', 'cars', 'bluecar_counter', 'utilib_counter', 'utilib_1.4_counter','charge_slots', 'charging_status', 'city', 'displayed_comment', 'id', 'kind','geo_point',\n",
        "           'postal_code','public_name', 'rental_status','scheduled_at','slots','station_type','status','subscription_status','year','month','day','hour', 'minute']\n",
        "df.columns = columns\n",
        "df.columns\n",
        "\n"
      ],
      "execution_count": 7,
      "outputs": [
        {
          "output_type": "execute_result",
          "data": {
            "text/plain": [
              "Index(['address', 'cars', 'bluecar_counter', 'utilib_counter',\n",
              "       'utilib_1.4_counter', 'charge_slots', 'charging_status', 'city',\n",
              "       'displayed_comment', 'id', 'kind', 'geo_point', 'postal_code',\n",
              "       'public_name', 'rental_status', 'scheduled_at', 'slots', 'station_type',\n",
              "       'status', 'subscription_status', 'year', 'month', 'day', 'hour',\n",
              "       'minute'],\n",
              "      dtype='object')"
            ]
          },
          "metadata": {
            "tags": []
          },
          "execution_count": 7
        }
      ]
    },
    {
      "cell_type": "code",
      "metadata": {
        "id": "L5joJRi0N5-J",
        "colab_type": "code",
        "colab": {
          "base_uri": "https://localhost:8080/",
          "height": 411
        },
        "outputId": "335ed143-231b-4988-d23f-4dc47c814f59"
      },
      "source": [
        "# previewing our dataset\n",
        "df.head()"
      ],
      "execution_count": 8,
      "outputs": [
        {
          "output_type": "execute_result",
          "data": {
            "text/html": [
              "<div>\n",
              "<style scoped>\n",
              "    .dataframe tbody tr th:only-of-type {\n",
              "        vertical-align: middle;\n",
              "    }\n",
              "\n",
              "    .dataframe tbody tr th {\n",
              "        vertical-align: top;\n",
              "    }\n",
              "\n",
              "    .dataframe thead th {\n",
              "        text-align: right;\n",
              "    }\n",
              "</style>\n",
              "<table border=\"1\" class=\"dataframe\">\n",
              "  <thead>\n",
              "    <tr style=\"text-align: right;\">\n",
              "      <th></th>\n",
              "      <th>address</th>\n",
              "      <th>cars</th>\n",
              "      <th>bluecar_counter</th>\n",
              "      <th>utilib_counter</th>\n",
              "      <th>utilib_1.4_counter</th>\n",
              "      <th>charge_slots</th>\n",
              "      <th>charging_status</th>\n",
              "      <th>city</th>\n",
              "      <th>displayed_comment</th>\n",
              "      <th>id</th>\n",
              "      <th>kind</th>\n",
              "      <th>geo_point</th>\n",
              "      <th>postal_code</th>\n",
              "      <th>public_name</th>\n",
              "      <th>rental_status</th>\n",
              "      <th>scheduled_at</th>\n",
              "      <th>slots</th>\n",
              "      <th>station_type</th>\n",
              "      <th>status</th>\n",
              "      <th>subscription_status</th>\n",
              "      <th>year</th>\n",
              "      <th>month</th>\n",
              "      <th>day</th>\n",
              "      <th>hour</th>\n",
              "      <th>minute</th>\n",
              "    </tr>\n",
              "  </thead>\n",
              "  <tbody>\n",
              "    <tr>\n",
              "      <th>0</th>\n",
              "      <td>2 Avenue de Suffren</td>\n",
              "      <td>0</td>\n",
              "      <td>0</td>\n",
              "      <td>0</td>\n",
              "      <td>0</td>\n",
              "      <td>0</td>\n",
              "      <td>nonexistent</td>\n",
              "      <td>Paris</td>\n",
              "      <td>NaN</td>\n",
              "      <td>paris-suffren-2</td>\n",
              "      <td>STATION</td>\n",
              "      <td>48.857, 2.2917</td>\n",
              "      <td>75015</td>\n",
              "      <td>Paris/Suffren/2</td>\n",
              "      <td>operational</td>\n",
              "      <td>NaN</td>\n",
              "      <td>2</td>\n",
              "      <td>station</td>\n",
              "      <td>ok</td>\n",
              "      <td>nonexistent</td>\n",
              "      <td>2018</td>\n",
              "      <td>4</td>\n",
              "      <td>8</td>\n",
              "      <td>11</td>\n",
              "      <td>43</td>\n",
              "    </tr>\n",
              "    <tr>\n",
              "      <th>1</th>\n",
              "      <td>145 Rue Raymond Losserand</td>\n",
              "      <td>6</td>\n",
              "      <td>6</td>\n",
              "      <td>0</td>\n",
              "      <td>0</td>\n",
              "      <td>0</td>\n",
              "      <td>operational</td>\n",
              "      <td>Paris</td>\n",
              "      <td>NaN</td>\n",
              "      <td>paris-raymondlosserand-145</td>\n",
              "      <td>STATION</td>\n",
              "      <td>48.83126, 2.313088</td>\n",
              "      <td>75014</td>\n",
              "      <td>Paris/Raymond Losserand/145</td>\n",
              "      <td>operational</td>\n",
              "      <td>NaN</td>\n",
              "      <td>0</td>\n",
              "      <td>station</td>\n",
              "      <td>ok</td>\n",
              "      <td>nonexistent</td>\n",
              "      <td>2018</td>\n",
              "      <td>4</td>\n",
              "      <td>6</td>\n",
              "      <td>7</td>\n",
              "      <td>24</td>\n",
              "    </tr>\n",
              "    <tr>\n",
              "      <th>2</th>\n",
              "      <td>2 Avenue John Fitzgerald Kennedy</td>\n",
              "      <td>3</td>\n",
              "      <td>3</td>\n",
              "      <td>0</td>\n",
              "      <td>2</td>\n",
              "      <td>0</td>\n",
              "      <td>operational</td>\n",
              "      <td>Le Bourget</td>\n",
              "      <td>NaN</td>\n",
              "      <td>lebourget-johnfitzgeraldkennedy-2</td>\n",
              "      <td>STATION</td>\n",
              "      <td>48.938103, 2.4286035</td>\n",
              "      <td>93350</td>\n",
              "      <td>Le Bourget/John Fitzgerald Kennedy/2</td>\n",
              "      <td>operational</td>\n",
              "      <td>NaN</td>\n",
              "      <td>1</td>\n",
              "      <td>station</td>\n",
              "      <td>ok</td>\n",
              "      <td>nonexistent</td>\n",
              "      <td>2018</td>\n",
              "      <td>4</td>\n",
              "      <td>3</td>\n",
              "      <td>20</td>\n",
              "      <td>14</td>\n",
              "    </tr>\n",
              "    <tr>\n",
              "      <th>3</th>\n",
              "      <td>51 Rue EugÃ¨ne OudinÃ©</td>\n",
              "      <td>3</td>\n",
              "      <td>3</td>\n",
              "      <td>1</td>\n",
              "      <td>0</td>\n",
              "      <td>1</td>\n",
              "      <td>operational</td>\n",
              "      <td>Paris</td>\n",
              "      <td>NaN</td>\n",
              "      <td>paris-eugeneoudine-51</td>\n",
              "      <td>STATION</td>\n",
              "      <td>48.8250327, 2.3725162</td>\n",
              "      <td>75013</td>\n",
              "      <td>Paris/EugÃ¨ne OudinÃ©/51</td>\n",
              "      <td>operational</td>\n",
              "      <td>NaN</td>\n",
              "      <td>2</td>\n",
              "      <td>station</td>\n",
              "      <td>ok</td>\n",
              "      <td>nonexistent</td>\n",
              "      <td>2018</td>\n",
              "      <td>4</td>\n",
              "      <td>4</td>\n",
              "      <td>4</td>\n",
              "      <td>37</td>\n",
              "    </tr>\n",
              "    <tr>\n",
              "      <th>4</th>\n",
              "      <td>6 avenue de la Porte de Champerret</td>\n",
              "      <td>3</td>\n",
              "      <td>3</td>\n",
              "      <td>0</td>\n",
              "      <td>0</td>\n",
              "      <td>0</td>\n",
              "      <td>nonexistent</td>\n",
              "      <td>Paris</td>\n",
              "      <td>NaN</td>\n",
              "      <td>paris-portedechamperret-6</td>\n",
              "      <td>PARKING</td>\n",
              "      <td>48.8862632, 2.2874511</td>\n",
              "      <td>75017</td>\n",
              "      <td>Paris/Porte de Champerret/6</td>\n",
              "      <td>operational</td>\n",
              "      <td>NaN</td>\n",
              "      <td>3</td>\n",
              "      <td>station</td>\n",
              "      <td>ok</td>\n",
              "      <td>nonexistent</td>\n",
              "      <td>2018</td>\n",
              "      <td>4</td>\n",
              "      <td>8</td>\n",
              "      <td>17</td>\n",
              "      <td>23</td>\n",
              "    </tr>\n",
              "  </tbody>\n",
              "</table>\n",
              "</div>"
            ],
            "text/plain": [
              "                              address  cars  bluecar_counter  ...  day  hour  minute\n",
              "0                 2 Avenue de Suffren     0                0  ...    8    11      43\n",
              "1           145 Rue Raymond Losserand     6                6  ...    6     7      24\n",
              "2    2 Avenue John Fitzgerald Kennedy     3                3  ...    3    20      14\n",
              "3              51 Rue EugÃ¨ne OudinÃ©     3                3  ...    4     4      37\n",
              "4  6 avenue de la Porte de Champerret     3                3  ...    8    17      23\n",
              "\n",
              "[5 rows x 25 columns]"
            ]
          },
          "metadata": {
            "tags": []
          },
          "execution_count": 8
        }
      ]
    },
    {
      "cell_type": "code",
      "metadata": {
        "id": "QsP8XC8XCR5L",
        "colab_type": "code",
        "colab": {
          "base_uri": "https://localhost:8080/",
          "height": 34
        },
        "outputId": "2403976f-6e2d-478c-ec95-a1298cb7eb1f"
      },
      "source": [
        "# dropping duplicates, if any\n",
        "df = df.drop_duplicates()\n",
        "df.shape\n",
        "\n",
        "\n",
        "# After carrying out the function to drop duplicates, there the dataset does not have duplicates as the shape remains the same."
      ],
      "execution_count": 9,
      "outputs": [
        {
          "output_type": "execute_result",
          "data": {
            "text/plain": [
              "(5000, 25)"
            ]
          },
          "metadata": {
            "tags": []
          },
          "execution_count": 9
        }
      ]
    },
    {
      "cell_type": "code",
      "metadata": {
        "id": "E5IxWylmoDJY",
        "colab_type": "code",
        "colab": {
          "base_uri": "https://localhost:8080/",
          "height": 459
        },
        "outputId": "cac4f377-67e7-4197-d575-8c366b729641"
      },
      "source": [
        "\n",
        "# checking for missing values\n",
        "df.isna().sum()\n"
      ],
      "execution_count": 10,
      "outputs": [
        {
          "output_type": "execute_result",
          "data": {
            "text/plain": [
              "address                   0\n",
              "cars                      0\n",
              "bluecar_counter           0\n",
              "utilib_counter            0\n",
              "utilib_1.4_counter        0\n",
              "charge_slots              0\n",
              "charging_status           0\n",
              "city                      0\n",
              "displayed_comment      4889\n",
              "id                        0\n",
              "kind                      0\n",
              "geo_point                 0\n",
              "postal_code               0\n",
              "public_name               0\n",
              "rental_status             0\n",
              "scheduled_at           4953\n",
              "slots                     0\n",
              "station_type              0\n",
              "status                    0\n",
              "subscription_status       0\n",
              "year                      0\n",
              "month                     0\n",
              "day                       0\n",
              "hour                      0\n",
              "minute                    0\n",
              "dtype: int64"
            ]
          },
          "metadata": {
            "tags": []
          },
          "execution_count": 10
        }
      ]
    },
    {
      "cell_type": "code",
      "metadata": {
        "id": "L1HaaDHBbbmI",
        "colab_type": "code",
        "colab": {}
      },
      "source": [
        "# Impute missing column with median values\n",
        "# ---\n",
        "# \n",
        "df.fillna(np.median, inplace = True)\n"
      ],
      "execution_count": 0,
      "outputs": []
    },
    {
      "cell_type": "code",
      "metadata": {
        "id": "J_QZHO0ZcoAO",
        "colab_type": "code",
        "colab": {
          "base_uri": "https://localhost:8080/",
          "height": 459
        },
        "outputId": "5d998f98-8386-4dc7-d12d-4bb544d0b694"
      },
      "source": [
        "# Checking if the null values have been replaced\n",
        "\n",
        "df_clean= df.isna().sum()\n",
        "df_clean"
      ],
      "execution_count": 12,
      "outputs": [
        {
          "output_type": "execute_result",
          "data": {
            "text/plain": [
              "address                0\n",
              "cars                   0\n",
              "bluecar_counter        0\n",
              "utilib_counter         0\n",
              "utilib_1.4_counter     0\n",
              "charge_slots           0\n",
              "charging_status        0\n",
              "city                   0\n",
              "displayed_comment      0\n",
              "id                     0\n",
              "kind                   0\n",
              "geo_point              0\n",
              "postal_code            0\n",
              "public_name            0\n",
              "rental_status          0\n",
              "scheduled_at           0\n",
              "slots                  0\n",
              "station_type           0\n",
              "status                 0\n",
              "subscription_status    0\n",
              "year                   0\n",
              "month                  0\n",
              "day                    0\n",
              "hour                   0\n",
              "minute                 0\n",
              "dtype: int64"
            ]
          },
          "metadata": {
            "tags": []
          },
          "execution_count": 12
        }
      ]
    },
    {
      "cell_type": "code",
      "metadata": {
        "id": "tgRoiTGjoUDs",
        "colab_type": "code",
        "colab": {
          "base_uri": "https://localhost:8080/",
          "height": 68
        },
        "outputId": "a7c7cb21-d921-4b52-8043-dd8b51ccdc23"
      },
      "source": [
        "\n",
        "# previewing the unique values in some key of our columns\n",
        "# address\tcars\tbluecar_counter\tutilib_counter\tutilib_1.4_counter\tcharge_slots\tcharging_status\tcity\tdisplayed_comment\tid\tkind\tgeo_point\tpostal_code\tpublic_name\trental_status\tscheduled_at\tslots\tstation_type\tstatus\tsubscription_status\tyear\tmonth\tday\thour\tminute\n",
        "\n",
        "\n",
        "df['address'].unique()\n",
        "\n"
      ],
      "execution_count": 14,
      "outputs": [
        {
          "output_type": "execute_result",
          "data": {
            "text/plain": [
              "array(['2 Avenue de Suffren', '145 Rue Raymond Losserand',\n",
              "       '2 Avenue John Fitzgerald Kennedy', ..., '106 rue VercingÃ©torix',\n",
              "       '134 boulevard National', '54 Boulevard SÃ©rurier'], dtype=object)"
            ]
          },
          "metadata": {
            "tags": []
          },
          "execution_count": 14
        }
      ]
    },
    {
      "cell_type": "code",
      "metadata": {
        "id": "mu9B9MiEOrjx",
        "colab_type": "code",
        "colab": {
          "base_uri": "https://localhost:8080/",
          "height": 34
        },
        "outputId": "449b3aca-e2c5-496e-c428-f14a16eeab85"
      },
      "source": [
        "df['cars'].unique()"
      ],
      "execution_count": 15,
      "outputs": [
        {
          "output_type": "execute_result",
          "data": {
            "text/plain": [
              "array([0, 6, 3, 1, 5, 4, 2, 7])"
            ]
          },
          "metadata": {
            "tags": []
          },
          "execution_count": 15
        }
      ]
    },
    {
      "cell_type": "code",
      "metadata": {
        "id": "sXGbY4VgOrgC",
        "colab_type": "code",
        "colab": {
          "base_uri": "https://localhost:8080/",
          "height": 34
        },
        "outputId": "d1fb3dcf-284a-4908-95b3-f8b2398f15bc"
      },
      "source": [
        "df['bluecar_counter'].unique()"
      ],
      "execution_count": 16,
      "outputs": [
        {
          "output_type": "execute_result",
          "data": {
            "text/plain": [
              "array([0, 6, 3, 1, 5, 4, 2, 7])"
            ]
          },
          "metadata": {
            "tags": []
          },
          "execution_count": 16
        }
      ]
    },
    {
      "cell_type": "code",
      "metadata": {
        "id": "zBxYUlXL1125",
        "colab_type": "code",
        "colab": {
          "base_uri": "https://localhost:8080/",
          "height": 34
        },
        "outputId": "36a3cfa5-80d9-4cd7-ade4-3ceac58478eb"
      },
      "source": [
        "\n",
        "df['utilib_counter'].unique()"
      ],
      "execution_count": 17,
      "outputs": [
        {
          "output_type": "execute_result",
          "data": {
            "text/plain": [
              "array([0, 1, 2])"
            ]
          },
          "metadata": {
            "tags": []
          },
          "execution_count": 17
        }
      ]
    },
    {
      "cell_type": "code",
      "metadata": {
        "id": "Z78kxyRp110C",
        "colab_type": "code",
        "colab": {
          "base_uri": "https://localhost:8080/",
          "height": 34
        },
        "outputId": "1b2ed063-9ce1-4064-94ac-b8678d3b1040"
      },
      "source": [
        "df['charging_status'].unique()"
      ],
      "execution_count": 18,
      "outputs": [
        {
          "output_type": "execute_result",
          "data": {
            "text/plain": [
              "array(['nonexistent', 'operational', 'broken'], dtype=object)"
            ]
          },
          "metadata": {
            "tags": []
          },
          "execution_count": 18
        }
      ]
    },
    {
      "cell_type": "code",
      "metadata": {
        "id": "B7uXPXtz11vW",
        "colab_type": "code",
        "colab": {
          "base_uri": "https://localhost:8080/",
          "height": 425
        },
        "outputId": "20a3d697-719c-4f15-b150-bf3cc32fac70"
      },
      "source": [
        "df['city'].unique()"
      ],
      "execution_count": 30,
      "outputs": [
        {
          "output_type": "execute_result",
          "data": {
            "text/plain": [
              "array(['Paris', 'Le Bourget', 'Nanterre', 'Puteaux', 'Fontenay-aux-Roses',\n",
              "       'Le Chesnay', 'Suresnes', 'Versailles', 'Malakoff',\n",
              "       'Issy-les-Moulineaux', 'Saint-Cloud', 'SÃ¨vres', 'Bezons',\n",
              "       'Nogent-sur-Marne', 'CrÃ©teil', 'Villejuif', 'Rueil-Malmaison',\n",
              "       'Villeneuve-la-Garenne', 'Montreuil', 'Charenton-le-Pont',\n",
              "       'Courbevoie', 'AsniÃ¨res-sur-Seine', 'Garches', 'Drancy',\n",
              "       'La Garenne-Colombes', 'VerriÃ¨res-le-Buisson', 'Le Blanc-Mesnil',\n",
              "       'Vanves', 'Enghien-les-Bains', 'Sceaux', 'Levallois-Perret',\n",
              "       'Boulogne-Billancourt', 'ChÃ¢tenay-Malabry', 'Pantin', 'Meudon',\n",
              "       'Gennevilliers', 'Vincennes', 'Rungis', 'Colombes',\n",
              "       'Fontenay-Sous-Bois', 'Rosny-sous-Bois', 'Bourg-la-Reine',\n",
              "       'Cachan', 'Maisons-Alfort', 'BiÃ¨vres', 'Alfortville',\n",
              "       'Champigny-sur-Marne', 'Aulnay-sous-bois', 'Saint-Denis',\n",
              "       'Le Plessis-Robinson', 'Le PrÃ©-Saint-Gervais', 'Clamart',\n",
              "       'Bois-Colombes', 'Guyancourt', 'Bagnolet', 'Vaucresson',\n",
              "       'Limeil-BrÃ©vannes', 'Saint-Maurice', 'Romainville',\n",
              "       'VÃ©lizy-Villacoublay', 'Arcueil', 'Saint-Ouen',\n",
              "       'Clichy la garenne', 'Meudon-la-ForÃªt', 'Clichy-la-Garenne',\n",
              "       \"Ville-d'Avray\", 'Argenteuil', 'Noisy-le-Sec', 'Saint-MandÃ©',\n",
              "       'Neuilly-sur-Seine', 'Clichy-sous-Bois', 'Montfermeil', 'Antony',\n",
              "       'Bagneux', 'Epinay-sur-Seine', 'ChÃ¢tillon',\n",
              "       'Ã\\x89pinay-sur-Seine', 'Yerres', 'Dugny', 'Joinville-le-Pont',\n",
              "       'Neuilly-Plaisance', 'Montrouge', 'Sucy-en-Brie', 'Chaville',\n",
              "       'Saclay', 'Les Lilas', 'Saint-Maur', 'Aubervilliers'], dtype=object)"
            ]
          },
          "metadata": {
            "tags": []
          },
          "execution_count": 30
        }
      ]
    },
    {
      "cell_type": "code",
      "metadata": {
        "id": "TXyhzjtnoUHL",
        "colab_type": "code",
        "colab": {
          "base_uri": "https://localhost:8080/",
          "height": 85
        },
        "outputId": "3375f8b1-19e5-4e97-f355-8a728e97078d"
      },
      "source": [
        "\n",
        "df['public_name'].unique()"
      ],
      "execution_count": 19,
      "outputs": [
        {
          "output_type": "execute_result",
          "data": {
            "text/plain": [
              "array(['Paris/Suffren/2', 'Paris/Raymond Losserand/145',\n",
              "       'Le Bourget/John Fitzgerald Kennedy/2', ...,\n",
              "       'Paris/VercingÃ©torix/106', 'Nanterre/National/134',\n",
              "       'Paris/SÃ©rurier/54'], dtype=object)"
            ]
          },
          "metadata": {
            "tags": []
          },
          "execution_count": 19
        }
      ]
    },
    {
      "cell_type": "code",
      "metadata": {
        "id": "ia3Jkmcjo0u-",
        "colab_type": "code",
        "colab": {
          "base_uri": "https://localhost:8080/",
          "height": 34
        },
        "outputId": "dd382bd4-8875-46aa-9486-f27290521957"
      },
      "source": [
        "df['rental_status'].unique()"
      ],
      "execution_count": 20,
      "outputs": [
        {
          "output_type": "execute_result",
          "data": {
            "text/plain": [
              "array(['operational', 'broken', 'future', 'nonexistent'], dtype=object)"
            ]
          },
          "metadata": {
            "tags": []
          },
          "execution_count": 20
        }
      ]
    },
    {
      "cell_type": "code",
      "metadata": {
        "id": "LzR4IAhxpJ3C",
        "colab_type": "code",
        "colab": {
          "base_uri": "https://localhost:8080/",
          "height": 476
        },
        "outputId": "fe8e9eef-5c12-4350-a40e-4bad971af649"
      },
      "source": [
        "\n",
        "df['displayed_comment'].unique()"
      ],
      "execution_count": 44,
      "outputs": [
        {
          "output_type": "execute_result",
          "data": {
            "text/plain": [
              "array([<function median at 0x7f5222fff598>,\n",
              "       'Station en parking (niv -1), accÃ¨s 37 rue Leblanc',\n",
              "       'Station en parking (niv 0), accÃ¨s 26 villa Croix Nivert',\n",
              "       'Station en parking (niv -2), accÃ¨s 4 av. Foch',\n",
              "       \"Borne d'abonnement en sous-sol (niv -1), accÃ¨s 4 rue Lobau\",\n",
              "       'Station en parking (niv -1), accÃ¨s rue Wilson',\n",
              "       'Station en parking (niv -1), accÃ¨s Place Georges Pompidou',\n",
              "       'Station en parking (niv -3), accÃ¨s 32 rue dâ\\x80\\x99Alsace',\n",
              "       'Station en parking (niv -2), accÃ¨s 2 avenue Gabriel',\n",
              "       'Station en parking (niv -1), accÃ¨s av. de Versailles',\n",
              "       'Station en parking (niv -1), accÃ¨s rue Abel Gance',\n",
              "       'Station en parking (niv -1), accÃ¨s 4 av. des Ternes',\n",
              "       'Station en parking (niv -1), Station B (sur la droite)',\n",
              "       'Station en parking',\n",
              "       'Station en parking (niv -2), accÃ¨s 125 bvd du Montparnasse',\n",
              "       'Station en parking (niv -1), Station A (sur la gauche)',\n",
              "       'Station en parking (niv -1), accÃ¨s 8 rue Louise Michel',\n",
              "       'Station en parking (niv -1), accÃ¨s 26 bvd Gouvion Saint-Cyr',\n",
              "       'Station en parking (niv -1), accÃ¨s rue Marjolin',\n",
              "       'Station en parking (niv -1), accÃ¨s 141 rue Lecourbe',\n",
              "       'Station en parking (niv -1), accÃ¨s 37 rue Wilson',\n",
              "       'Station en parking (niv -2), accÃ¨s 155 rue de Rennes',\n",
              "       'Station en parking (niv -1), accÃ¨s av. gÃ©n Sarrail',\n",
              "       'Station en parking (niv -1), accÃ¨s 33 rue Ernest Cognacq',\n",
              "       'Station en parking (niv -1), accÃ¨s 80 rue Wilson',\n",
              "       \"Station en parking (niv -1), accÃ¨s 29 quai d'Austerlitz\"],\n",
              "      dtype=object)"
            ]
          },
          "metadata": {
            "tags": []
          },
          "execution_count": 44
        }
      ]
    },
    {
      "cell_type": "code",
      "metadata": {
        "id": "pi5ebjYepJ8v",
        "colab_type": "code",
        "colab": {
          "base_uri": "https://localhost:8080/",
          "height": 85
        },
        "outputId": "87f253bd-99a6-4619-aeac-01276775582c"
      },
      "source": [
        "\n",
        "df['id'].unique()"
      ],
      "execution_count": 45,
      "outputs": [
        {
          "output_type": "execute_result",
          "data": {
            "text/plain": [
              "array(['paris-suffren-2', 'paris-raymondlosserand-145',\n",
              "       'lebourget-johnfitzgeraldkennedy-2', ...,\n",
              "       'paris-vercingetorix-106', 'nanterre-national-134',\n",
              "       'paris-serurier-54'], dtype=object)"
            ]
          },
          "metadata": {
            "tags": []
          },
          "execution_count": 45
        }
      ]
    },
    {
      "cell_type": "code",
      "metadata": {
        "id": "Rl-cOxRSpJ6M",
        "colab_type": "code",
        "colab": {
          "base_uri": "https://localhost:8080/",
          "height": 34
        },
        "outputId": "879612d4-7f14-4cd6-b824-9bf1a886f268"
      },
      "source": [
        "df['kind'].unique()\n"
      ],
      "execution_count": 46,
      "outputs": [
        {
          "output_type": "execute_result",
          "data": {
            "text/plain": [
              "array(['STATION', 'PARKING', 'SPACE', 'CENTER'], dtype=object)"
            ]
          },
          "metadata": {
            "tags": []
          },
          "execution_count": 46
        }
      ]
    },
    {
      "cell_type": "code",
      "metadata": {
        "id": "gKwAZmO3pgVO",
        "colab_type": "code",
        "colab": {
          "base_uri": "https://localhost:8080/",
          "height": 68
        },
        "outputId": "fc49a154-0e30-4e51-fbc3-2056bb50edc1"
      },
      "source": [
        "df['geo_point'].unique()\n"
      ],
      "execution_count": 47,
      "outputs": [
        {
          "output_type": "execute_result",
          "data": {
            "text/plain": [
              "array(['48.857, 2.2917', '48.83126, 2.313088', '48.938103, 2.4286035',\n",
              "       ..., '48.8344374, 2.3137055', '48.88835, 2.184296',\n",
              "       '48.88075, 2.397629'], dtype=object)"
            ]
          },
          "metadata": {
            "tags": []
          },
          "execution_count": 47
        }
      ]
    },
    {
      "cell_type": "code",
      "metadata": {
        "id": "qnYAJLDIpgYh",
        "colab_type": "code",
        "colab": {
          "base_uri": "https://localhost:8080/",
          "height": 221
        },
        "outputId": "5d21e6d3-252e-4329-e08e-84ff32bb2f8f"
      },
      "source": [
        "df['postal_code'].unique()"
      ],
      "execution_count": 48,
      "outputs": [
        {
          "output_type": "execute_result",
          "data": {
            "text/plain": [
              "array([75015, 75014, 93350, 75013, 75017, 75011, 92000, 75009, 75005,\n",
              "       92800, 92260, 78150, 92150, 78000, 92240, 75007, 75010, 92130,\n",
              "       75006, 75018, 75004, 75020, 92210, 92310, 95870, 94130, 75016,\n",
              "       94000, 94800, 92500, 75012, 92390, 75003, 93100, 75019, 94220,\n",
              "       92400, 92600, 92380, 75001, 93700, 92250, 91370, 93150, 75002,\n",
              "       92170, 75008, 95880, 92330, 92300, 92100, 92290, 93500, 92190,\n",
              "       92230, 94300, 94150, 92700, 94120, 93110, 92340, 94230, 94700,\n",
              "       91570, 94140, 94500, 93600, 93200, 92350, 93310, 92140, 92220,\n",
              "       92270, 78280, 93170, 92420, 94450, 94410, 93230, 78140, 94110,\n",
              "       75116, 93400, 92360, 92410, 95100, 93130, 94160, 92200, 93390,\n",
              "       93370, 92160, 93800, 92320, 91330, 93440, 94340, 93360, 92110,\n",
              "       75112, 92120, 94370, 92370, 91400, 93260, 94100, 93300])"
            ]
          },
          "metadata": {
            "tags": []
          },
          "execution_count": 48
        }
      ]
    },
    {
      "cell_type": "code",
      "metadata": {
        "id": "lm1T2D6Bpoib",
        "colab_type": "code",
        "colab": {
          "base_uri": "https://localhost:8080/",
          "height": 102
        },
        "outputId": "e7b5f18b-d30a-4101-c180-dd0bd7b230e5"
      },
      "source": [
        "df['scheduled_at'].unique()"
      ],
      "execution_count": 49,
      "outputs": [
        {
          "output_type": "execute_result",
          "data": {
            "text/plain": [
              "array([<function median at 0x7f5222fff598>, '2016-07-27T15:32:21',\n",
              "       '2016-07-05T13:10:09', '2015-09-29T13:58:29',\n",
              "       '2016-04-26T14:28:01', '2012-09-17T08:57:28',\n",
              "       '2016-01-06T10:35:38', '2018-01-03T10:52:00',\n",
              "       '2016-07-27T15:32:22'], dtype=object)"
            ]
          },
          "metadata": {
            "tags": []
          },
          "execution_count": 49
        }
      ]
    },
    {
      "cell_type": "code",
      "metadata": {
        "id": "C1lzrZHgpol2",
        "colab_type": "code",
        "colab": {
          "base_uri": "https://localhost:8080/",
          "height": 34
        },
        "outputId": "4b75822f-d9fe-4fa7-90b0-87c19f7dcfb4"
      },
      "source": [
        "df['station_type'].unique()"
      ],
      "execution_count": 51,
      "outputs": [
        {
          "output_type": "execute_result",
          "data": {
            "text/plain": [
              "array(['station', 'full_station', 'subs_center'], dtype=object)"
            ]
          },
          "metadata": {
            "tags": []
          },
          "execution_count": 51
        }
      ]
    },
    {
      "cell_type": "code",
      "metadata": {
        "id": "Ey-Ml7UKqC79",
        "colab_type": "code",
        "colab": {
          "base_uri": "https://localhost:8080/",
          "height": 34
        },
        "outputId": "1d0aec74-e234-4818-c74f-4ee8939c593b"
      },
      "source": [
        "df['status'].unique()\n"
      ],
      "execution_count": 52,
      "outputs": [
        {
          "output_type": "execute_result",
          "data": {
            "text/plain": [
              "array(['ok', 'closed', 'scheduled'], dtype=object)"
            ]
          },
          "metadata": {
            "tags": []
          },
          "execution_count": 52
        }
      ]
    },
    {
      "cell_type": "code",
      "metadata": {
        "id": "TkzAIyCQqDB1",
        "colab_type": "code",
        "colab": {
          "base_uri": "https://localhost:8080/",
          "height": 34
        },
        "outputId": "00992d69-6adc-498a-c054-e833901b8420"
      },
      "source": [
        "df['subscription_status'].unique()"
      ],
      "execution_count": 53,
      "outputs": [
        {
          "output_type": "execute_result",
          "data": {
            "text/plain": [
              "array(['nonexistent', 'operational', 'broken'], dtype=object)"
            ]
          },
          "metadata": {
            "tags": []
          },
          "execution_count": 53
        }
      ]
    },
    {
      "cell_type": "markdown",
      "metadata": {
        "id": "Yfzv6zZ_nXp4",
        "colab_type": "text"
      },
      "source": [
        "Data Analysis"
      ]
    },
    {
      "cell_type": "code",
      "metadata": {
        "id": "kU545Cir2aVv",
        "colab_type": "code",
        "colab": {
          "base_uri": "https://localhost:8080/",
          "height": 238
        },
        "outputId": "2ce2cb84-2ccc-4dd2-b240-5f1365e2303e"
      },
      "source": [
        "# Question 1;\n",
        "# Identify the most popular hour of the day for picking up a shared electric car (Bluecar) in the city \n",
        "# of Paris over the month of April 2018.\n",
        "\n",
        "df.groupby(['hour', 'bluecar_counter','city'])['bluecar_counter'].sum().sort_values(ascending = False)\n",
        "\n",
        "# The most popular hour was 5th hour \n"
      ],
      "execution_count": 24,
      "outputs": [
        {
          "output_type": "execute_result",
          "data": {
            "text/plain": [
              "hour  bluecar_counter  city             \n",
              "5     5                Paris                95\n",
              "21    4                Paris                88\n",
              "10    4                Paris                80\n",
              "3     5                Paris                80\n",
              "7     4                Paris                64\n",
              "                                            ..\n",
              "11    0                Saint-MandÃ©          0\n",
              "                       Paris                 0\n",
              "                       Neuilly-Plaisance     0\n",
              "                       Maisons-Alfort        0\n",
              "0     0                Alfortville           0\n",
              "Name: bluecar_counter, Length: 2064, dtype: int64"
            ]
          },
          "metadata": {
            "tags": []
          },
          "execution_count": 24
        }
      ]
    },
    {
      "cell_type": "code",
      "metadata": {
        "id": "7EXUlwVry0_N",
        "colab_type": "code",
        "colab": {}
      },
      "source": [
        "# What is the most popular hour for returning cars?\n",
        "\n"
      ],
      "execution_count": 0,
      "outputs": []
    },
    {
      "cell_type": "code",
      "metadata": {
        "id": "ssPCJM3HwGXH",
        "colab_type": "code",
        "colab": {
          "base_uri": "https://localhost:8080/",
          "height": 238
        },
        "outputId": "ec985648-bf74-48b8-bac0-13fb13980424"
      },
      "source": [
        "# What station is the most popular?\n",
        "\n",
        "df.groupby('public_name')['public_name'].count().sort_values(ascending = False)\n",
        "\n",
        "# most popular station is Paris/Porte de Montrouge/8"
      ],
      "execution_count": 43,
      "outputs": [
        {
          "output_type": "execute_result",
          "data": {
            "text/plain": [
              "public_name\n",
              "Paris/Porte de Montrouge/8    13\n",
              "Paris/Courcelles/69           11\n",
              "SÃ¨vres/WolfenbÃ¼ttel/1       11\n",
              "Paris/Voltaire/182            11\n",
              "Paris/Grenelle 31/Parking     11\n",
              "                              ..\n",
              "Paris/Lecourbe/336             1\n",
              "Paris/Porte Pouchet/6          1\n",
              "Meudon/Ponceau/2               1\n",
              "Paris/Pirogues de Bercy/44     1\n",
              "Paris/Jean Veber/3             1\n",
              "Name: public_name, Length: 1105, dtype: int64"
            ]
          },
          "metadata": {
            "tags": []
          },
          "execution_count": 43
        }
      ]
    },
    {
      "cell_type": "code",
      "metadata": {
        "id": "9PETzxVrwGc8",
        "colab_type": "code",
        "colab": {
          "base_uri": "https://localhost:8080/",
          "height": 238
        },
        "outputId": "2481c4ed-c0b5-4eb2-a994-42cee57eea6e"
      },
      "source": [
        "# What postal code is the most popular for picking up Blue cars? \n",
        "\n",
        "df.groupby(['postal_code', 'bluecar_counter'])['bluecar_counter'].sum().sort_values(ascending = False)\n",
        "\n",
        "\n",
        "# 75015 was the most popular postal code for picking Blue cars"
      ],
      "execution_count": 27,
      "outputs": [
        {
          "output_type": "execute_result",
          "data": {
            "text/plain": [
              "postal_code  bluecar_counter\n",
              "75015        5                  175\n",
              "75016        4                  172\n",
              "75015        4                  148\n",
              "75017        3                  141\n",
              "75016        5                  140\n",
              "                               ... \n",
              "92700        0                    0\n",
              "92600        0                    0\n",
              "92500        0                    0\n",
              "75112        0                    0\n",
              "75001        0                    0\n",
              "Name: bluecar_counter, Length: 641, dtype: int64"
            ]
          },
          "metadata": {
            "tags": []
          },
          "execution_count": 27
        }
      ]
    },
    {
      "cell_type": "code",
      "metadata": {
        "id": "1qKUoi7NwGTQ",
        "colab_type": "code",
        "colab": {}
      },
      "source": [
        "# Does the most popular station belong to that postal code?\n",
        "# Overall?\n",
        "# At the most popular picking hour?\n",
        "# Do the results change if you consider Utilib and Utilib 1.4 instead of Blue cars? "
      ],
      "execution_count": 0,
      "outputs": []
    },
    {
      "cell_type": "code",
      "metadata": {
        "id": "zTlA8hDTlnAW",
        "colab_type": "code",
        "colab": {
          "base_uri": "https://localhost:8080/",
          "height": 371
        },
        "outputId": "a9f80ef4-7d51-4045-9f04-ee9b6aa2d285"
      },
      "source": [
        "df['year','month','day','hour','minute']=pd.to_datetime(df['year']  + df['month']+df['day']+df['hour'] +df['minute'], dayfirst=True) \n",
        "df.datetime.head()\n",
        "\n",
        "# > 0   2019-06-05 14:01:10\n",
        "# > 1   2019-06-05 14:09:30\n",
        "# > 2   2019-06-05 14:17:50\n",
        "# > 3   2019-06-05 14:26:10\n",
        "# > 4   2019-06-05 14:34:30\n",
        "# > Name: datetime, dtype: datetime64[ns]"
      ],
      "execution_count": 39,
      "outputs": [
        {
          "output_type": "error",
          "ename": "AttributeError",
          "evalue": "ignored",
          "traceback": [
            "\u001b[0;31m---------------------------------------------------------------------------\u001b[0m",
            "\u001b[0;31mAttributeError\u001b[0m                            Traceback (most recent call last)",
            "\u001b[0;32m<ipython-input-39-6f6be01f736e>\u001b[0m in \u001b[0;36m<module>\u001b[0;34m()\u001b[0m\n\u001b[1;32m      1\u001b[0m \u001b[0mdf\u001b[0m\u001b[0;34m[\u001b[0m\u001b[0;34m'year'\u001b[0m\u001b[0;34m,\u001b[0m\u001b[0;34m'month'\u001b[0m\u001b[0;34m,\u001b[0m\u001b[0;34m'day'\u001b[0m\u001b[0;34m,\u001b[0m\u001b[0;34m'hour'\u001b[0m\u001b[0;34m,\u001b[0m\u001b[0;34m'minute'\u001b[0m\u001b[0;34m]\u001b[0m\u001b[0;34m=\u001b[0m\u001b[0mpd\u001b[0m\u001b[0;34m.\u001b[0m\u001b[0mto_datetime\u001b[0m\u001b[0;34m(\u001b[0m\u001b[0mdf\u001b[0m\u001b[0;34m[\u001b[0m\u001b[0;34m'year'\u001b[0m\u001b[0;34m]\u001b[0m  \u001b[0;34m+\u001b[0m \u001b[0mdf\u001b[0m\u001b[0;34m[\u001b[0m\u001b[0;34m'month'\u001b[0m\u001b[0;34m]\u001b[0m\u001b[0;34m+\u001b[0m\u001b[0mdf\u001b[0m\u001b[0;34m[\u001b[0m\u001b[0;34m'day'\u001b[0m\u001b[0;34m]\u001b[0m\u001b[0;34m+\u001b[0m\u001b[0mdf\u001b[0m\u001b[0;34m[\u001b[0m\u001b[0;34m'hour'\u001b[0m\u001b[0;34m]\u001b[0m \u001b[0;34m+\u001b[0m\u001b[0mdf\u001b[0m\u001b[0;34m[\u001b[0m\u001b[0;34m'minute'\u001b[0m\u001b[0;34m]\u001b[0m\u001b[0;34m,\u001b[0m \u001b[0mdayfirst\u001b[0m\u001b[0;34m=\u001b[0m\u001b[0;32mTrue\u001b[0m\u001b[0;34m)\u001b[0m\u001b[0;34m\u001b[0m\u001b[0;34m\u001b[0m\u001b[0m\n\u001b[0;32m----> 2\u001b[0;31m \u001b[0mdf\u001b[0m\u001b[0;34m.\u001b[0m\u001b[0mdatetime\u001b[0m\u001b[0;34m.\u001b[0m\u001b[0mhead\u001b[0m\u001b[0;34m(\u001b[0m\u001b[0;34m)\u001b[0m\u001b[0;34m\u001b[0m\u001b[0;34m\u001b[0m\u001b[0m\n\u001b[0m\u001b[1;32m      3\u001b[0m \u001b[0;34m\u001b[0m\u001b[0m\n\u001b[1;32m      4\u001b[0m \u001b[0;31m# > 0   2019-06-05 14:01:10\u001b[0m\u001b[0;34m\u001b[0m\u001b[0;34m\u001b[0m\u001b[0;34m\u001b[0m\u001b[0m\n\u001b[1;32m      5\u001b[0m \u001b[0;31m# > 1   2019-06-05 14:09:30\u001b[0m\u001b[0;34m\u001b[0m\u001b[0;34m\u001b[0m\u001b[0;34m\u001b[0m\u001b[0m\n",
            "\u001b[0;32m/usr/local/lib/python3.6/dist-packages/pandas/core/generic.py\u001b[0m in \u001b[0;36m__getattr__\u001b[0;34m(self, name)\u001b[0m\n\u001b[1;32m   5272\u001b[0m             \u001b[0;32mif\u001b[0m \u001b[0mself\u001b[0m\u001b[0;34m.\u001b[0m\u001b[0m_info_axis\u001b[0m\u001b[0;34m.\u001b[0m\u001b[0m_can_hold_identifiers_and_holds_name\u001b[0m\u001b[0;34m(\u001b[0m\u001b[0mname\u001b[0m\u001b[0;34m)\u001b[0m\u001b[0;34m:\u001b[0m\u001b[0;34m\u001b[0m\u001b[0;34m\u001b[0m\u001b[0m\n\u001b[1;32m   5273\u001b[0m                 \u001b[0;32mreturn\u001b[0m \u001b[0mself\u001b[0m\u001b[0;34m[\u001b[0m\u001b[0mname\u001b[0m\u001b[0;34m]\u001b[0m\u001b[0;34m\u001b[0m\u001b[0;34m\u001b[0m\u001b[0m\n\u001b[0;32m-> 5274\u001b[0;31m             \u001b[0;32mreturn\u001b[0m \u001b[0mobject\u001b[0m\u001b[0;34m.\u001b[0m\u001b[0m__getattribute__\u001b[0m\u001b[0;34m(\u001b[0m\u001b[0mself\u001b[0m\u001b[0;34m,\u001b[0m \u001b[0mname\u001b[0m\u001b[0;34m)\u001b[0m\u001b[0;34m\u001b[0m\u001b[0;34m\u001b[0m\u001b[0m\n\u001b[0m\u001b[1;32m   5275\u001b[0m \u001b[0;34m\u001b[0m\u001b[0m\n\u001b[1;32m   5276\u001b[0m     \u001b[0;32mdef\u001b[0m \u001b[0m__setattr__\u001b[0m\u001b[0;34m(\u001b[0m\u001b[0mself\u001b[0m\u001b[0;34m,\u001b[0m \u001b[0mname\u001b[0m\u001b[0;34m:\u001b[0m \u001b[0mstr\u001b[0m\u001b[0;34m,\u001b[0m \u001b[0mvalue\u001b[0m\u001b[0;34m)\u001b[0m \u001b[0;34m->\u001b[0m \u001b[0;32mNone\u001b[0m\u001b[0;34m:\u001b[0m\u001b[0;34m\u001b[0m\u001b[0;34m\u001b[0m\u001b[0m\n",
            "\u001b[0;31mAttributeError\u001b[0m: 'DataFrame' object has no attribute 'datetime'"
          ]
        }
      ]
    },
    {
      "cell_type": "code",
      "metadata": {
        "id": "fMGYNCnbZRe8",
        "colab_type": "code",
        "colab": {}
      },
      "source": [
        ""
      ],
      "execution_count": 0,
      "outputs": []
    }
  ]
}